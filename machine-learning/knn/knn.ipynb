{
 "cells": [
  {
   "cell_type": "markdown",
   "metadata": {},
   "source": [
    "## KNN - HW0 ML\n",
    "\n",
    "Supervised learning algorithm used for both classification & regression. Instance-based learning(lazy).\n",
    "To make it more efficient, we store the points in a ***KD-tree***. "
   ]
  },
  {
   "cell_type": "code",
   "execution_count": 72,
   "metadata": {},
   "outputs": [
    {
     "name": "stdout",
     "output_type": "stream",
     "text": [
      "['sepal length (cm)', 'sepal width (cm)', 'petal length (cm)', 'petal width (cm)']\n"
     ]
    }
   ],
   "source": [
    "import numpy as np\n",
    "from scipy.spatial import KDTree\n",
    "from sklearn.datasets import load_iris\n",
    "\n",
    "from typing import List, Dict\n",
    "\n",
    "iris = load_iris()\n",
    "\n",
    "# print(type(iris.data))\n",
    "print(iris.feature_names)\n",
    "# iris.data\n"
   ]
  },
  {
   "cell_type": "code",
   "execution_count": 73,
   "metadata": {},
   "outputs": [
    {
     "data": {
      "text/html": [
       "<div>\n",
       "<style scoped>\n",
       "    .dataframe tbody tr th:only-of-type {\n",
       "        vertical-align: middle;\n",
       "    }\n",
       "\n",
       "    .dataframe tbody tr th {\n",
       "        vertical-align: top;\n",
       "    }\n",
       "\n",
       "    .dataframe thead th {\n",
       "        text-align: right;\n",
       "    }\n",
       "</style>\n",
       "<table border=\"1\" class=\"dataframe\">\n",
       "  <thead>\n",
       "    <tr style=\"text-align: right;\">\n",
       "      <th></th>\n",
       "      <th>sepal length (cm)</th>\n",
       "      <th>sepal width (cm)</th>\n",
       "      <th>petal length (cm)</th>\n",
       "      <th>petal width (cm)</th>\n",
       "      <th>target</th>\n",
       "    </tr>\n",
       "  </thead>\n",
       "  <tbody>\n",
       "    <tr>\n",
       "      <th>0</th>\n",
       "      <td>5.1</td>\n",
       "      <td>3.5</td>\n",
       "      <td>1.4</td>\n",
       "      <td>0.2</td>\n",
       "      <td>0.0</td>\n",
       "    </tr>\n",
       "    <tr>\n",
       "      <th>1</th>\n",
       "      <td>4.9</td>\n",
       "      <td>3.0</td>\n",
       "      <td>1.4</td>\n",
       "      <td>0.2</td>\n",
       "      <td>0.0</td>\n",
       "    </tr>\n",
       "    <tr>\n",
       "      <th>2</th>\n",
       "      <td>4.7</td>\n",
       "      <td>3.2</td>\n",
       "      <td>1.3</td>\n",
       "      <td>0.2</td>\n",
       "      <td>0.0</td>\n",
       "    </tr>\n",
       "    <tr>\n",
       "      <th>3</th>\n",
       "      <td>4.6</td>\n",
       "      <td>3.1</td>\n",
       "      <td>1.5</td>\n",
       "      <td>0.2</td>\n",
       "      <td>0.0</td>\n",
       "    </tr>\n",
       "    <tr>\n",
       "      <th>4</th>\n",
       "      <td>5.0</td>\n",
       "      <td>3.6</td>\n",
       "      <td>1.4</td>\n",
       "      <td>0.2</td>\n",
       "      <td>0.0</td>\n",
       "    </tr>\n",
       "  </tbody>\n",
       "</table>\n",
       "</div>"
      ],
      "text/plain": [
       "   sepal length (cm)  sepal width (cm)  petal length (cm)  petal width (cm)  \\\n",
       "0                5.1               3.5                1.4               0.2   \n",
       "1                4.9               3.0                1.4               0.2   \n",
       "2                4.7               3.2                1.3               0.2   \n",
       "3                4.6               3.1                1.5               0.2   \n",
       "4                5.0               3.6                1.4               0.2   \n",
       "\n",
       "   target  \n",
       "0     0.0  \n",
       "1     0.0  \n",
       "2     0.0  \n",
       "3     0.0  \n",
       "4     0.0  "
      ]
     },
     "execution_count": 73,
     "metadata": {},
     "output_type": "execute_result"
    }
   ],
   "source": [
    "import pandas as pd\n",
    "\n",
    "iris_df: pd.DataFrame = pd.DataFrame(data=np.c_[iris['data'], iris['target']],\n",
    "                                     columns=iris['feature_names'] + ['target'])\n",
    "iris_df.head()"
   ]
  },
  {
   "cell_type": "code",
   "execution_count": 74,
   "metadata": {},
   "outputs": [
    {
     "data": {
      "text/html": [
       "<div>\n",
       "<style scoped>\n",
       "    .dataframe tbody tr th:only-of-type {\n",
       "        vertical-align: middle;\n",
       "    }\n",
       "\n",
       "    .dataframe tbody tr th {\n",
       "        vertical-align: top;\n",
       "    }\n",
       "\n",
       "    .dataframe thead th {\n",
       "        text-align: right;\n",
       "    }\n",
       "</style>\n",
       "<table border=\"1\" class=\"dataframe\">\n",
       "  <thead>\n",
       "    <tr style=\"text-align: right;\">\n",
       "      <th></th>\n",
       "      <th>sepal length (cm)</th>\n",
       "      <th>sepal width (cm)</th>\n",
       "      <th>petal length (cm)</th>\n",
       "      <th>petal width (cm)</th>\n",
       "      <th>target</th>\n",
       "    </tr>\n",
       "  </thead>\n",
       "  <tbody>\n",
       "    <tr>\n",
       "      <th>count</th>\n",
       "      <td>150.000000</td>\n",
       "      <td>150.000000</td>\n",
       "      <td>150.000000</td>\n",
       "      <td>150.000000</td>\n",
       "      <td>150.000000</td>\n",
       "    </tr>\n",
       "    <tr>\n",
       "      <th>mean</th>\n",
       "      <td>5.843333</td>\n",
       "      <td>3.057333</td>\n",
       "      <td>3.758000</td>\n",
       "      <td>1.199333</td>\n",
       "      <td>1.000000</td>\n",
       "    </tr>\n",
       "    <tr>\n",
       "      <th>std</th>\n",
       "      <td>0.828066</td>\n",
       "      <td>0.435866</td>\n",
       "      <td>1.765298</td>\n",
       "      <td>0.762238</td>\n",
       "      <td>0.819232</td>\n",
       "    </tr>\n",
       "    <tr>\n",
       "      <th>min</th>\n",
       "      <td>4.300000</td>\n",
       "      <td>2.000000</td>\n",
       "      <td>1.000000</td>\n",
       "      <td>0.100000</td>\n",
       "      <td>0.000000</td>\n",
       "    </tr>\n",
       "    <tr>\n",
       "      <th>25%</th>\n",
       "      <td>5.100000</td>\n",
       "      <td>2.800000</td>\n",
       "      <td>1.600000</td>\n",
       "      <td>0.300000</td>\n",
       "      <td>0.000000</td>\n",
       "    </tr>\n",
       "    <tr>\n",
       "      <th>50%</th>\n",
       "      <td>5.800000</td>\n",
       "      <td>3.000000</td>\n",
       "      <td>4.350000</td>\n",
       "      <td>1.300000</td>\n",
       "      <td>1.000000</td>\n",
       "    </tr>\n",
       "    <tr>\n",
       "      <th>75%</th>\n",
       "      <td>6.400000</td>\n",
       "      <td>3.300000</td>\n",
       "      <td>5.100000</td>\n",
       "      <td>1.800000</td>\n",
       "      <td>2.000000</td>\n",
       "    </tr>\n",
       "    <tr>\n",
       "      <th>max</th>\n",
       "      <td>7.900000</td>\n",
       "      <td>4.400000</td>\n",
       "      <td>6.900000</td>\n",
       "      <td>2.500000</td>\n",
       "      <td>2.000000</td>\n",
       "    </tr>\n",
       "  </tbody>\n",
       "</table>\n",
       "</div>"
      ],
      "text/plain": [
       "       sepal length (cm)  sepal width (cm)  petal length (cm)  \\\n",
       "count         150.000000        150.000000         150.000000   \n",
       "mean            5.843333          3.057333           3.758000   \n",
       "std             0.828066          0.435866           1.765298   \n",
       "min             4.300000          2.000000           1.000000   \n",
       "25%             5.100000          2.800000           1.600000   \n",
       "50%             5.800000          3.000000           4.350000   \n",
       "75%             6.400000          3.300000           5.100000   \n",
       "max             7.900000          4.400000           6.900000   \n",
       "\n",
       "       petal width (cm)      target  \n",
       "count        150.000000  150.000000  \n",
       "mean           1.199333    1.000000  \n",
       "std            0.762238    0.819232  \n",
       "min            0.100000    0.000000  \n",
       "25%            0.300000    0.000000  \n",
       "50%            1.300000    1.000000  \n",
       "75%            1.800000    2.000000  \n",
       "max            2.500000    2.000000  "
      ]
     },
     "execution_count": 74,
     "metadata": {},
     "output_type": "execute_result"
    }
   ],
   "source": [
    "\n",
    "iris_df.describe() # general statistics"
   ]
  },
  {
   "cell_type": "code",
   "execution_count": 75,
   "metadata": {},
   "outputs": [],
   "source": [
    "def calc_euclidean_distance(point1: np.ndarray, \n",
    "                            point2: np.ndarray) -> float:\n",
    "    return np.sqrt(np.sum(np.power(point1 - point2, 2)))\n"
   ]
  },
  {
   "cell_type": "markdown",
   "metadata": {},
   "source": [
    "## Implementing KNN with KD-tree"
   ]
  },
  {
   "cell_type": "code",
   "execution_count": 76,
   "metadata": {},
   "outputs": [],
   "source": [
    "class KNNModel:\n",
    "\n",
    "    def __init__(self, k: int, \n",
    "                 train_data: np.ndarray, train_targets: np.ndarray) -> None:\n",
    "        self.k: int = k\n",
    "        self.tree: KDTree = KDTree(train_data)\n",
    "        self.targets: np.ndarray = train_targets\n",
    "\n",
    "    def vote(self, query_point: np.ndarray) -> int:\n",
    "        _, nearest_neighbour_indices = self.tree.query(query_point, k=self.k) \n",
    "        classes_cnt: List[int] = [0, 0, 0]\n",
    "        \n",
    "        if self.k == 1:\n",
    "            nearest_neighbour_indices = [nearest_neighbour_indices] # otherwise it's a scalar\n",
    "            \n",
    "        for ind in nearest_neighbour_indices:\n",
    "            c: int = int(self.targets[int(ind)])\n",
    "            classes_cnt[c] += 1\n",
    "\n",
    "        return classes_cnt.index(max(classes_cnt)) \n",
    "\n",
    "    \n",
    "    def accuracy(self, points: np.ndarray, targets: np.ndarray) -> float:\n",
    "        \n",
    "        mistakes: int = 0\n",
    "\n",
    "        for query_point, point_class in zip(points, targets):\n",
    "\n",
    "            est_class: int = self.vote(query_point)\n",
    "            mistakes = mistakes if est_class == int(point_class) else mistakes + 1\n",
    "\n",
    "        return 1 - mistakes / len(points)\n",
    "\n",
    "\n",
    "\n"
   ]
  },
  {
   "cell_type": "markdown",
   "metadata": {},
   "source": [
    "### Testing accuracy"
   ]
  },
  {
   "cell_type": "code",
   "execution_count": 77,
   "metadata": {},
   "outputs": [
    {
     "name": "stdout",
     "output_type": "stream",
     "text": [
      "0.9666666666666667\n"
     ]
    }
   ],
   "source": [
    "perm: np.ndarray = np.random.permutation(len(iris.data))\n",
    "\n",
    "x_train: np.ndarray = iris.data[perm]\n",
    "y_train: np.ndarray = iris.target[perm]\n",
    "\n",
    "model: KNNModel = KNNModel(5, x_train, y_train)\n",
    "print(model.accuracy(x_train, y_train))"
   ]
  },
  {
   "cell_type": "markdown",
   "metadata": {},
   "source": [
    "#### 10-fold cross-validation\n",
    "\n",
    "To test the algorithm, 10-fold cross-validation is applied  \n",
    "* divides the data randomly into 10 sets \n",
    "* does 10 trainings \\& tests of the model each time using one of the sets for testing and the other 9 for traning "
   ]
  },
  {
   "cell_type": "code",
   "execution_count": 78,
   "metadata": {},
   "outputs": [],
   "source": [
    "def cross_validation_accuracy(k: int, \n",
    "                              data: np.ndarray, target: np.ndarray) -> float:\n",
    "    temp_sum: float = 0\n",
    "    num_chunks: int = 10\n",
    "    chunk_size: int = len(data) // num_chunks\n",
    "    \n",
    "    perm: np.ndarray = np.random.permutation(len(data))\n",
    "\n",
    "    x: np.ndarray = data[perm]\n",
    "    y: np.ndarray = target[perm]\n",
    "\n",
    "    for i in range(0, num_chunks):\n",
    "        begin: int = i * num_chunks\n",
    "        end: int = begin + chunk_size\n",
    "\n",
    "        x_train: np.ndarray = np.concatenate((x[0:begin], x[end:]))\n",
    "        y_train: np.ndarray = np.concatenate((y[0:begin], y[end:]))\n",
    "        x_test: np.ndarray = x[begin:end]\n",
    "        y_test: np.ndarray = y[begin:end]\n",
    "\n",
    "        m: KNNModel = KNNModel(k, x_train, y_train)\n",
    "        temp_sum += m.accuracy(x_test, y_test)\n",
    "\n",
    "    return temp_sum / num_chunks"
   ]
  },
  {
   "cell_type": "markdown",
   "metadata": {},
   "source": [
    "### Finding the best k value"
   ]
  },
  {
   "cell_type": "code",
   "execution_count": 79,
   "metadata": {},
   "outputs": [],
   "source": [
    "import seaborn as sns\n",
    "import matplotlib.pyplot as plt"
   ]
  },
  {
   "cell_type": "code",
   "execution_count": 80,
   "metadata": {},
   "outputs": [
    {
     "name": "stdout",
     "output_type": "stream",
     "text": [
      "Accuracy of model: 0.9866666666666667 | k = 1\n",
      "Accuracy of model: 0.9600000000000002 | k = 2\n",
      "Accuracy of model: 0.9666666666666668 | k = 3\n",
      "Accuracy of model: 0.9266666666666665 | k = 4\n",
      "Accuracy of model: 0.9733333333333334 | k = 5\n",
      "Accuracy of model: 0.9733333333333334 | k = 6\n",
      "Accuracy of model: 0.9400000000000002 | k = 7\n",
      "Accuracy of model: 0.9666666666666668 | k = 8\n",
      "Accuracy of model: 0.9600000000000002 | k = 9\n",
      "Accuracy of model: 0.9800000000000001 | k = 10\n",
      "Accuracy of model: 0.9400000000000001 | k = 11\n",
      "Accuracy of model: 0.9866666666666667 | k = 12\n",
      "Accuracy of model: 0.9666666666666668 | k = 13\n",
      "Accuracy of model: 0.9600000000000002 | k = 14\n",
      "Accuracy of model: 0.9600000000000002 | k = 15\n",
      "Accuracy of model: 0.9800000000000001 | k = 16\n",
      "Accuracy of model: 0.9666666666666668 | k = 17\n",
      "Accuracy of model: 0.9933333333333334 | k = 18\n",
      "Accuracy of model: 0.9733333333333334 | k = 19\n",
      "Accuracy of model: 0.9666666666666668 | k = 20\n",
      "Accuracy of model: 0.9466666666666669 | k = 21\n",
      "Accuracy of model: 0.9733333333333334 | k = 22\n",
      "Accuracy of model: 0.9800000000000001 | k = 23\n",
      "Accuracy of model: 0.9666666666666668 | k = 24\n",
      "Accuracy of model: 0.9466666666666669 | k = 25\n",
      "Accuracy of model: 0.9333333333333336 | k = 26\n",
      "Accuracy of model: 0.9533333333333334 | k = 27\n",
      "Accuracy of model: 0.9533333333333335 | k = 28\n",
      "Accuracy of model: 0.9600000000000002 | k = 29\n",
      "\n",
      "Best accuracy was 0.9933333333333334 for k = 18\n"
     ]
    }
   ],
   "source": [
    "k_vals: range = list(range(1, 30, 1))\n",
    "accuracy_k = [cross_validation_accuracy(k, iris.data, iris.target) for k in k_vals]\n",
    "\n",
    "\n",
    "for k, val in zip(k_vals, accuracy_k) :\n",
    "    print(f\"Accuracy of model: {val} | k = {k}\")\n",
    "\n",
    "best_id: int = accuracy_k.index(max(accuracy_k,))\n",
    "print(f\"\\nBest accuracy was {accuracy_k[best_id]} for k = {k_vals[best_id]}\")"
   ]
  },
  {
   "cell_type": "code",
   "execution_count": 81,
   "metadata": {},
   "outputs": [
    {
     "data": {
      "image/png": "[encoded data removed]",
      "text/plain": [
       "<Figure size 640x480 with 1 Axes>"
      ]
     },
     "metadata": {},
     "output_type": "display_data"
    }
   ],
   "source": [
    "sns.set(style='darkgrid')\n",
    "ax = sns.lineplot(x='k', y='acc', \n",
    "                  data=pd.DataFrame({'k': k_vals, 'acc': accuracy_k}),\n",
    "                  marker='o')\n",
    "ax.set(xticks=k_vals)\n",
    "\n",
    "plt.show()"
   ]
  },
  {
   "cell_type": "markdown",
   "metadata": {},
   "source": [
    "### With data normalization"
   ]
  },
  {
   "cell_type": "code",
   "execution_count": 82,
   "metadata": {},
   "outputs": [],
   "source": [
    "from sklearn.preprocessing import Normalizer\n",
    "\n",
    "\n",
    "def cross_validation_accuracy_norm(k: int, \n",
    "                                   data: np.ndarray, target: np.ndarray) -> float:\n",
    "    temp_sum: float = 0\n",
    "    num_chunks: int = 10\n",
    "    chunk_size: int = len(data) // num_chunks\n",
    "    \n",
    "    perm: np.ndarray = np.random.permutation(len(data))\n",
    "\n",
    "    x: np.ndarray = data[perm]\n",
    "    y: np.ndarray = target[perm]\n",
    "\n",
    "    for i in range(0, num_chunks):\n",
    "        begin: int = i * num_chunks\n",
    "        end: int = begin + chunk_size\n",
    "\n",
    "        x_train: np.ndarray = np.concatenate((x[0:begin], x[end:]))\n",
    "        y_train: np.ndarray = np.concatenate((y[0:begin], y[end:]))\n",
    "        x_test: np.ndarray = x[begin:end]\n",
    "        y_test: np.ndarray = y[begin:end]\n",
    "\n",
    "        scaler = Normalizer().fit(x_train)\n",
    "        norm_x_train = scaler.transform(x_train)\n",
    "        norm_x_test = scaler.transform(x_test)\n",
    "\n",
    "        m: KNNModel = KNNModel(k, norm_x_train, y_train)\n",
    "        temp_sum += m.accuracy(norm_x_test, y_test)\n",
    "\n",
    "    return temp_sum / num_chunks\n"
   ]
  },
  {
   "cell_type": "code",
   "execution_count": 83,
   "metadata": {},
   "outputs": [
    {
     "name": "stdout",
     "output_type": "stream",
     "text": [
      "Accuracy of model: 0.9400000000000001 | k = 1\n",
      "Accuracy of model: 0.9533333333333334 | k = 2\n",
      "Accuracy of model: 0.9933333333333334 | k = 3\n",
      "Accuracy of model: 0.9666666666666668 | k = 4\n",
      "Accuracy of model: 0.9600000000000002 | k = 5\n",
      "Accuracy of model: 0.9800000000000001 | k = 6\n",
      "Accuracy of model: 0.9733333333333334 | k = 7\n",
      "Accuracy of model: 0.9733333333333334 | k = 8\n",
      "Accuracy of model: 0.9533333333333334 | k = 9\n",
      "Accuracy of model: 0.9666666666666668 | k = 10\n",
      "Accuracy of model: 0.9866666666666667 | k = 11\n",
      "Accuracy of model: 0.9800000000000001 | k = 12\n",
      "Accuracy of model: 0.9600000000000002 | k = 13\n",
      "Accuracy of model: 0.9466666666666669 | k = 14\n",
      "Accuracy of model: 0.9466666666666669 | k = 15\n",
      "Accuracy of model: 0.9933333333333334 | k = 16\n",
      "Accuracy of model: 0.9666666666666666 | k = 17\n",
      "Accuracy of model: 1.0 | k = 18\n",
      "Accuracy of model: 1.0 | k = 19\n",
      "Accuracy of model: 0.9733333333333334 | k = 20\n",
      "Accuracy of model: 0.9800000000000001 | k = 21\n",
      "Accuracy of model: 0.9800000000000001 | k = 22\n",
      "Accuracy of model: 0.96 | k = 23\n",
      "Accuracy of model: 0.9600000000000002 | k = 24\n",
      "Accuracy of model: 0.9800000000000001 | k = 25\n",
      "Accuracy of model: 0.9866666666666667 | k = 26\n",
      "Accuracy of model: 0.9800000000000001 | k = 27\n",
      "Accuracy of model: 0.9733333333333334 | k = 28\n",
      "Accuracy of model: 0.9666666666666668 | k = 29\n",
      "\n",
      "Best accuracy was 1.0 for k = 18\n"
     ]
    }
   ],
   "source": [
    "accuracy_k = [cross_validation_accuracy_norm(k, iris.data, iris.target) for k in k_vals]\n",
    "\n",
    "\n",
    "for k, val in zip(k_vals, accuracy_k) :\n",
    "    print(f\"Accuracy of model: {val} | k = {k}\")\n",
    "\n",
    "best_id: int = accuracy_k.index(max(accuracy_k,))\n",
    "print(f\"\\nBest accuracy was {accuracy_k[best_id]} for k = {k_vals[best_id]}\")"
   ]
  },
  {
   "cell_type": "code",
   "execution_count": 84,
   "metadata": {},
   "outputs": [
    {
     "data": {
      "image/png": "[encoded data removed]",
      "text/plain": [
       "<Figure size 640x480 with 1 Axes>"
      ]
     },
     "metadata": {},
     "output_type": "display_data"
    }
   ],
   "source": [
    "ax = sns.lineplot(x='k', y='acc', \n",
    "                  data=pd.DataFrame({'k': k_vals, 'acc': accuracy_k}),\n",
    "                  marker='o')\n",
    "ax.set(xticks=k_vals)\n",
    "\n",
    "plt.show()"
   ]
  }
 ],
 "metadata": {
  "kernelspec": {
   "display_name": "Python 3",
   "language": "python",
   "name": "python3"
  },
  "language_info": {
   "codemirror_mode": {
    "name": "ipython",
    "version": 3
   },
   "file_extension": ".py",
   "mimetype": "text/x-python",
   "name": "python",
   "nbconvert_exporter": "python",
   "pygments_lexer": "ipython3",
   "version": "3.10.12"
  }
 },
 "nbformat": 4,
 "nbformat_minor": 2
}
