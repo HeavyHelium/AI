{
 "cells": [
  {
   "cell_type": "markdown",
   "metadata": {},
   "source": [
    "# ID3 Decision Tree"
   ]
  },
  {
   "cell_type": "markdown",
   "metadata": {},
   "source": [
    "## Условие\n",
    "* Реализирайте алгоритъма за класификационно дърво ID3\n",
    "* Използвайте ***кросвалидация*** за изчисляване на точността на модела върху обучаващото множество. \n",
    "\n",
    "* За избягване на ***overfitting*** използвайте константа **K** -- минимален брой на обучаващи примери в множеството. \n",
    "\n",
    "? друг подход за избягване на ***overfittting*** + сравняване на резултата?  \n",
    "? bonus: ***Random Forest*** ?"
   ]
  },
  {
   "cell_type": "code",
   "execution_count": 165,
   "metadata": {},
   "outputs": [],
   "source": [
    "import math\n",
    "import pandas as pd\n",
    "import numpy as np\n",
    "from ucimlrepo import fetch_ucirepo, dotdict\n",
    "from typing import Dict, List, Set, Tuple\n",
    "from dataclasses import dataclass, field"
   ]
  },
  {
   "cell_type": "code",
   "execution_count": 177,
   "metadata": {},
   "outputs": [],
   "source": [
    "# fetch dataset \n",
    "\n",
    "breast_cancer: dotdict = fetch_ucirepo(id=14)\n",
    "\n",
    "X: pd.core.frame.DataFrame = breast_cancer.data.features \n",
    "y: pd.core.frame.DataFrame = breast_cancer.data.targets\n",
    "\n",
    "values: List[str] = [X[name].unique() for idx, name in enumerate(X.columns)]\n",
    "attributes: List[bool] = [False for _ in X.columns] \n",
    "\n",
    "\n",
    "X: np.ndarray = X.values\n",
    "y: np.ndarray = y.values\n",
    "pos_target: str = \"recurrence-events\"\n",
    "# print(attributes_left)\n",
    "# print(values)"
   ]
  },
  {
   "cell_type": "code",
   "execution_count": 178,
   "metadata": {},
   "outputs": [
    {
     "name": "stdout",
     "output_type": "stream",
     "text": [
      "False\n"
     ]
    }
   ],
   "source": [
    "\n",
    "Split = Dict[str, Data]\n",
    "\n",
    "class Data:\n",
    "    def __init__(self, feature: int = -1, feature_val: str=None, data: List[int] = None):\n",
    "        self.num_pos: int = 0\n",
    "        self.feature: int = feature\n",
    "        self.feature_val: str = feature_val\n",
    "        self.data: List[int] = data if data else []\n",
    "        self._count_pos()\n",
    "\n",
    "    def _count_pos(self) -> None:\n",
    "        for idx in self.data:\n",
    "            if y[idx] == pos_target:\n",
    "                self.num_pos += 1\n",
    "\n",
    "    @property\n",
    "    def prop_pos(self) -> float:\n",
    "        return self.num_pos / len(self.data)\n",
    "    @property\n",
    "    def zero_entropy(self) -> bool:\n",
    "        return self.num_pos == len(self) or self.num_pos == 0 \n",
    "    \n",
    "    @property\n",
    "    def entropy(self) -> float:\n",
    "        if self.zero_entropy:\n",
    "            return 0\n",
    "\n",
    "        num_neg: int = (len(self) - self.num_pos) \n",
    "        prop_neg: float = num_neg / len(self)\n",
    "\n",
    "        return -self.num_pos * math.log(self.prop_pos) - num_neg * math.log(prop_neg)\n",
    "\n",
    "    @property\n",
    "    def gini(self) -> float:\n",
    "        pass\n",
    "\n",
    "    def __len__(self) -> int:\n",
    "        return len(self.data)\n",
    "\n",
    "    def insert_idx(self, idx: int) -> None:\n",
    "        self.data.append(idx)\n",
    "        if y[idx] == pos_target:\n",
    "            self.num_pos += 1\n",
    "\n",
    "    def split_on_attribute(self, feature: int) -> Split:\n",
    "        spl: Split = {val: Data(feature=feature, feature_val=val) for val in values[feature]}\n",
    "        \n",
    "        for idx in self.data:\n",
    "            val: str = X[idx][feature]\n",
    "            spl[val].insert_idx(idx)\n",
    "\n",
    "        return spl\n",
    "\n",
    "    def __repr__(self) -> str:\n",
    "        return repr(self.data)\n",
    "\n",
    "dt = Data(data=list(range(len(X))))\n",
    "spl: Split = dt.split_on_attribute(0)\n",
    "\n",
    "# print(type(spl))\n",
    "# print(dt.data)\n",
    "# print(dt.num_pos)\n",
    "# print(dt.prop_pos)\n",
    "# print(dt.entropy)\n",
    "# for key, value in spl.items():\n",
    "#     print(f\"{key}: {value.entropy}\")\n"
   ]
  },
  {
   "cell_type": "code",
   "execution_count": 188,
   "metadata": {},
   "outputs": [
    {
     "name": "stdout",
     "output_type": "stream",
     "text": [
      "{'30-34': <__main__.Node object at 0x7f19fadb0820>, '20-24': <__main__.Node object at 0x7f19f8901c00>, '15-19': <__main__.Node object at 0x7f19f8903d00>, '0-4': <__main__.Node object at 0x7f19f89001f0>, '25-29': <__main__.Node object at 0x7f19f8901570>, '50-54': <__main__.Node object at 0x7f19f8901d80>, '14-Oct': <__main__.Node object at 0x7f19f8901db0>, '40-44': <__main__.Node object at 0x7f19f8903970>, '35-39': <__main__.Node object at 0x7f19f89031c0>, '9-May': <__main__.Node object at 0x7f19f8903100>, '45-49': <__main__.Node object at 0x7f19f91096c0>}\n"
     ]
    }
   ],
   "source": [
    "class Node:\n",
    "\n",
    "    def __init__(self, data: Data=Data) -> None:\n",
    "        self.data: Data = data\n",
    "        self.children: Dict[str, Node] = {}\n",
    "        self._build_children()\n",
    "    \n",
    "    def information_gain(self, spl: Split) -> float:\n",
    "        sum_term: float = sum([(len(val) / len(self.data)) * val.entropy for _, val in spl.items()])\n",
    "        return self.data.entropy - sum_term\n",
    "\n",
    "    def get_best_split(self) -> Tuple[int, Split]:\n",
    "        best: Split = {}\n",
    "        best_score: float = float(\"-inf\")\n",
    "        feature: int = -1\n",
    "        for i in range(len(attributes)):\n",
    "            if not attributes[i]:\n",
    "                spl: Split = self.data.split_on_attribute(i)\n",
    "                ig: float = self.information_gain(spl)\n",
    "                if ig > best_score:\n",
    "                    best_score = ig\n",
    "                    best = spl\n",
    "                    feature = i\n",
    "        return feature, best\n",
    "\n",
    "    def predict(self, X: np.ndarray) -> bool:\n",
    "        if not self.children:\n",
    "            pass\n",
    "\n",
    "\n",
    "\n",
    "    def _build_children(self) -> None:\n",
    "        # print(sum(attributes) == len(attributes), sum(attributes) == len(attributes))\n",
    "        if self.data.zero_entropy or sum(attributes) == len(attributes):\n",
    "            # print(\"42\")\n",
    "            return\n",
    "        feature, best_split = self.get_best_split()\n",
    "        attributes[feature] = True\n",
    "    \n",
    "        for val, data in best_split.items():\n",
    "            self.children[val] = Node(data)\n",
    "\n",
    "\n",
    "attributes = [False for _ in attributes]\n",
    "n = Node(data=Data(data=list(range(len(X)))))\n",
    "# print(\"age\", n.information_gain(spl))\n",
    "# print(n.get_best_split())\n",
    "print(n.children)"
   ]
  },
  {
   "cell_type": "code",
   "execution_count": null,
   "metadata": {},
   "outputs": [],
   "source": [
    "class DecisionTree:\n",
    "    def __init__(self) -> None:\n",
    "        self.root: Node = Node(Data(data=List(range(len(X)))))\n",
    "        \n",
    "        "
   ]
  },
  {
   "cell_type": "code",
   "execution_count": 52,
   "metadata": {},
   "outputs": [
    {
     "name": "stdout",
     "output_type": "stream",
     "text": [
      "{'30-39': [[0, 22, 35, 51, 74, 77, 90, 99, 107, 116, 118, 126, 127, 135, 136, 138, 148, 154, 170, 171, 193, 205, 219, 221, 224, 232, 238, 245, 246, 249, 252, 265, 268, 276, 281, 282], 15], '40-49': [[1, 2, 4, 8, 9, 10, 14, 16, 25, 28, 38, 39, 43, 46, 48, 49, 60, 61, 64, 65, 66, 71, 79, 84, 89, 95, 98, 100, 103, 104, 105, 106, 108, 112, 113, 114, 117, 129, 130, 131, 132, 137, 139, 143, 145, 159, 160, 161, 165, 166, 167, 169, 175, 176, 179, 180, 181, 182, 185, 188, 190, 191, 197, 202, 209, 210, 212, 215, 217, 220, 225, 226, 231, 236, 237, 239, 241, 244, 250, 251, 254, 255, 256, 257, 261, 266, 269, 272, 275, 284], 27], '60-69': [[3, 5, 7, 12, 15, 18, 21, 27, 29, 41, 42, 58, 59, 69, 70, 72, 81, 82, 86, 93, 96, 97, 109, 119, 120, 124, 134, 142, 144, 146, 151, 153, 155, 162, 163, 164, 172, 177, 187, 200, 214, 218, 222, 223, 228, 229, 234, 240, 248, 253, 260, 262, 267, 273, 274, 277, 283], 17], '50-59': [[6, 11, 13, 17, 19, 20, 23, 24, 26, 30, 31, 32, 33, 34, 36, 37, 40, 44, 45, 47, 50, 52, 56, 57, 62, 67, 68, 73, 75, 76, 78, 80, 83, 85, 88, 91, 92, 94, 101, 102, 110, 111, 115, 121, 122, 123, 128, 133, 140, 141, 147, 149, 150, 152, 156, 157, 158, 168, 173, 174, 178, 183, 184, 186, 189, 192, 194, 195, 196, 198, 199, 201, 203, 204, 206, 207, 208, 211, 213, 216, 227, 230, 235, 242, 243, 247, 258, 259, 263, 264, 270, 271, 278, 279, 280, 285], 25], '70-79': [[53, 54, 55, 87, 125, 233], 1], '20-29': [[63], 0]}\n"
     ]
    }
   ],
   "source": [
    "\n",
    "def split_on_attribute(data: List[int], feature: int) -> Dict[str, List[int]]:\n",
    "    \"\"\"\n",
    "    ::Returns:: an Dict of arrays of indeces of rows\n",
    "    with keys feature vals\n",
    "    \"\"\"\n",
    "\n",
    "    lst_spl: Dict[str, List[int]] = {val:Data for val in values[feature]}\n",
    "\n",
    "    for idx in data:\n",
    "        lst_spl[X[idx][feature]][0].append(idx)\n",
    "        if y[idx] == pos_target:\n",
    "            lst_spl[X[idx][feature]][1] += 1\n",
    "\n",
    "    return lst_spl\n",
    "\n",
    "def get_best_split(data: List[int]) -> Dict[str, List[int]]:\n",
    "    pass\n",
    "    \n",
    "print(split_on_attribute(list(range(len(X))), 0))\n",
    "\n",
    "class Node:\n",
    "    def __init__(self):\n",
    "        self.data: np.ndarray = []\n"
   ]
  }
 ],
 "metadata": {
  "kernelspec": {
   "display_name": "Python 3",
   "language": "python",
   "name": "python3"
  },
  "language_info": {
   "codemirror_mode": {
    "name": "ipython",
    "version": 3
   },
   "file_extension": ".py",
   "mimetype": "text/x-python",
   "name": "python",
   "nbconvert_exporter": "python",
   "pygments_lexer": "ipython3",
   "version": "3.10.12"
  }
 },
 "nbformat": 4,
 "nbformat_minor": 2
}
